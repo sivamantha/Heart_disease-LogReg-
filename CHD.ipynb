{
 "metadata": {
  "language_info": {
   "codemirror_mode": {
    "name": "ipython",
    "version": 3
   },
   "file_extension": ".py",
   "mimetype": "text/x-python",
   "name": "python",
   "nbconvert_exporter": "python",
   "pygments_lexer": "ipython3",
   "version": "3.8.3-final"
  },
  "orig_nbformat": 2,
  "kernelspec": {
   "name": "Python 3.8.3 64-bit ('base': conda)",
   "display_name": "Python 3.8.3 64-bit ('base': conda)",
   "metadata": {
    "interpreter": {
     "hash": "8ecd9ef8d50513d082cb0709998a850f79bfba54a73601ae20a53fad4901306d"
    }
   }
  }
 },
 "nbformat": 4,
 "nbformat_minor": 2,
 "cells": [
  {
   "cell_type": "code",
   "execution_count": 56,
   "metadata": {},
   "outputs": [],
   "source": [
    "# Importing relevant libraries\n",
    "import numpy as np \n",
    "import pandas as pd\n",
    "from pydataset import data\n",
    "from sklearn.linear_model import LogisticRegression\n",
    "from sklearn.model_selection import train_test_split\n",
    "from sklearn.metrics import confusion_matrix \n",
    "from sklearn.metrics import accuracy_score\n",
    "from sklearn.metrics import classification_report"
   ]
  },
  {
   "cell_type": "code",
   "execution_count": 57,
   "metadata": {},
   "outputs": [
    {
     "output_type": "execute_result",
     "data": {
      "text/plain": [
       "             male         age  currentSmoker  cigsPerDay  prevalentStroke  \\\n",
       "count  691.000000  691.000000     691.000000   691.00000       691.000000   \n",
       "mean     0.439942   49.465991       0.496382     9.15919         0.007236   \n",
       "std      0.496740    8.967247       0.500349    11.76894         0.084817   \n",
       "min      0.000000   33.000000       0.000000     0.00000         0.000000   \n",
       "25%      0.000000   42.000000       0.000000     0.00000         0.000000   \n",
       "50%      0.000000   49.000000       0.000000     0.00000         0.000000   \n",
       "75%      1.000000   57.000000       1.000000    20.00000         0.000000   \n",
       "max      1.000000   68.000000       1.000000    60.00000         1.000000   \n",
       "\n",
       "         diabetes  Total.Cholestral.level         BMI   heartRate     glucose  \\\n",
       "count  691.000000              691.000000  691.000000  691.000000  691.000000   \n",
       "mean     0.027496              235.327062   25.586918   75.843705   81.963821   \n",
       "std      0.163643               43.481632    3.748676   11.706503   24.121134   \n",
       "min      0.000000              113.000000   16.480000   46.000000   48.000000   \n",
       "25%      0.000000              205.000000   23.095000   68.000000   72.000000   \n",
       "50%      0.000000              232.000000   25.130000   75.000000   78.000000   \n",
       "75%      0.000000              262.000000   27.705000   82.000000   87.000000   \n",
       "max      1.000000              432.000000   42.000000  125.000000  370.000000   \n",
       "\n",
       "              CHD  \n",
       "count  691.000000  \n",
       "mean     0.150507  \n",
       "std      0.357826  \n",
       "min      0.000000  \n",
       "25%      0.000000  \n",
       "50%      0.000000  \n",
       "75%      0.000000  \n",
       "max      1.000000  "
      ],
      "text/html": "<div>\n<style scoped>\n    .dataframe tbody tr th:only-of-type {\n        vertical-align: middle;\n    }\n\n    .dataframe tbody tr th {\n        vertical-align: top;\n    }\n\n    .dataframe thead th {\n        text-align: right;\n    }\n</style>\n<table border=\"1\" class=\"dataframe\">\n  <thead>\n    <tr style=\"text-align: right;\">\n      <th></th>\n      <th>male</th>\n      <th>age</th>\n      <th>currentSmoker</th>\n      <th>cigsPerDay</th>\n      <th>prevalentStroke</th>\n      <th>diabetes</th>\n      <th>Total.Cholestral.level</th>\n      <th>BMI</th>\n      <th>heartRate</th>\n      <th>glucose</th>\n      <th>CHD</th>\n    </tr>\n  </thead>\n  <tbody>\n    <tr>\n      <th>count</th>\n      <td>691.000000</td>\n      <td>691.000000</td>\n      <td>691.000000</td>\n      <td>691.00000</td>\n      <td>691.000000</td>\n      <td>691.000000</td>\n      <td>691.000000</td>\n      <td>691.000000</td>\n      <td>691.000000</td>\n      <td>691.000000</td>\n      <td>691.000000</td>\n    </tr>\n    <tr>\n      <th>mean</th>\n      <td>0.439942</td>\n      <td>49.465991</td>\n      <td>0.496382</td>\n      <td>9.15919</td>\n      <td>0.007236</td>\n      <td>0.027496</td>\n      <td>235.327062</td>\n      <td>25.586918</td>\n      <td>75.843705</td>\n      <td>81.963821</td>\n      <td>0.150507</td>\n    </tr>\n    <tr>\n      <th>std</th>\n      <td>0.496740</td>\n      <td>8.967247</td>\n      <td>0.500349</td>\n      <td>11.76894</td>\n      <td>0.084817</td>\n      <td>0.163643</td>\n      <td>43.481632</td>\n      <td>3.748676</td>\n      <td>11.706503</td>\n      <td>24.121134</td>\n      <td>0.357826</td>\n    </tr>\n    <tr>\n      <th>min</th>\n      <td>0.000000</td>\n      <td>33.000000</td>\n      <td>0.000000</td>\n      <td>0.00000</td>\n      <td>0.000000</td>\n      <td>0.000000</td>\n      <td>113.000000</td>\n      <td>16.480000</td>\n      <td>46.000000</td>\n      <td>48.000000</td>\n      <td>0.000000</td>\n    </tr>\n    <tr>\n      <th>25%</th>\n      <td>0.000000</td>\n      <td>42.000000</td>\n      <td>0.000000</td>\n      <td>0.00000</td>\n      <td>0.000000</td>\n      <td>0.000000</td>\n      <td>205.000000</td>\n      <td>23.095000</td>\n      <td>68.000000</td>\n      <td>72.000000</td>\n      <td>0.000000</td>\n    </tr>\n    <tr>\n      <th>50%</th>\n      <td>0.000000</td>\n      <td>49.000000</td>\n      <td>0.000000</td>\n      <td>0.00000</td>\n      <td>0.000000</td>\n      <td>0.000000</td>\n      <td>232.000000</td>\n      <td>25.130000</td>\n      <td>75.000000</td>\n      <td>78.000000</td>\n      <td>0.000000</td>\n    </tr>\n    <tr>\n      <th>75%</th>\n      <td>1.000000</td>\n      <td>57.000000</td>\n      <td>1.000000</td>\n      <td>20.00000</td>\n      <td>0.000000</td>\n      <td>0.000000</td>\n      <td>262.000000</td>\n      <td>27.705000</td>\n      <td>82.000000</td>\n      <td>87.000000</td>\n      <td>0.000000</td>\n    </tr>\n    <tr>\n      <th>max</th>\n      <td>1.000000</td>\n      <td>68.000000</td>\n      <td>1.000000</td>\n      <td>60.00000</td>\n      <td>1.000000</td>\n      <td>1.000000</td>\n      <td>432.000000</td>\n      <td>42.000000</td>\n      <td>125.000000</td>\n      <td>370.000000</td>\n      <td>1.000000</td>\n    </tr>\n  </tbody>\n</table>\n</div>"
     },
     "metadata": {},
     "execution_count": 57
    }
   ],
   "source": [
    "#get the data\n",
    "CHD = pd.read_csv('C:/Users/sivam/OneDrive/Projects/Logistic Regression/CHD/HeartDisease.csv')\n",
    "CHD.describe()"
   ]
  },
  {
   "cell_type": "code",
   "execution_count": 74,
   "metadata": {},
   "outputs": [],
   "source": [
    "# test train split\n",
    "y = CHD['CHD']\n",
    "x = CHD.drop( ['CHD'],  axis = 1)\n",
    "x_train,x_test,y_train,y_test = train_test_split(x,y, test_size = 0.2, random_state = 0)"
   ]
  },
  {
   "cell_type": "code",
   "execution_count": 75,
   "metadata": {},
   "outputs": [
    {
     "output_type": "execute_result",
     "data": {
      "text/plain": [
       "LogisticRegression()"
      ]
     },
     "metadata": {},
     "execution_count": 75
    }
   ],
   "source": [
    "#build the model using training data\n",
    "logreg = LogisticRegression()\n",
    "logreg.fit(x_train, y_train)"
   ]
  },
  {
   "cell_type": "code",
   "execution_count": 76,
   "metadata": {},
   "outputs": [],
   "source": [
    "y_test_pred = logreg.predict(x_test)"
   ]
  },
  {
   "cell_type": "code",
   "execution_count": 77,
   "metadata": {},
   "outputs": [
    {
     "output_type": "execute_result",
     "data": {
      "text/plain": [
       "          Predicted 0  Predicted 1\n",
       "Actual 0          121            1\n",
       "Actual 1           17            0"
      ],
      "text/html": "<div>\n<style scoped>\n    .dataframe tbody tr th:only-of-type {\n        vertical-align: middle;\n    }\n\n    .dataframe tbody tr th {\n        vertical-align: top;\n    }\n\n    .dataframe thead th {\n        text-align: right;\n    }\n</style>\n<table border=\"1\" class=\"dataframe\">\n  <thead>\n    <tr style=\"text-align: right;\">\n      <th></th>\n      <th>Predicted 0</th>\n      <th>Predicted 1</th>\n    </tr>\n  </thead>\n  <tbody>\n    <tr>\n      <th>Actual 0</th>\n      <td>121</td>\n      <td>1</td>\n    </tr>\n    <tr>\n      <th>Actual 1</th>\n      <td>17</td>\n      <td>0</td>\n    </tr>\n  </tbody>\n</table>\n</div>"
     },
     "metadata": {},
     "execution_count": 77
    }
   ],
   "source": [
    "cm = pd.DataFrame(confusion_matrix(y_test, y_test_pred))\n",
    "cm.columns = ['Predicted 0', 'Predicted 1']\n",
    "cm = cm.rename(index = {0:'Actual 0', 1:'Actual 1'})\n",
    "cm"
   ]
  },
  {
   "cell_type": "code",
   "execution_count": 78,
   "metadata": {},
   "outputs": [
    {
     "output_type": "execute_result",
     "data": {
      "text/plain": [
       "0.8705035971223022"
      ]
     },
     "metadata": {},
     "execution_count": 78
    }
   ],
   "source": [
    "accuracy_score(y_test, y_test_pred)"
   ]
  }
 ]
}